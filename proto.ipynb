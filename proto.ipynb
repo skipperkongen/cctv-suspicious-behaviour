{
 "cells": [
  {
   "cell_type": "code",
   "execution_count": 12,
   "metadata": {},
   "outputs": [],
   "source": [
    "# Create training videos\n",
    "import cv2\n",
    "import numpy as np\n",
    "from time import sleep\n",
    "import glob\n",
    "import os\n",
    "import sys\n",
    "\n",
    "NUM_FRAMES = 100\n",
    "SEQ_LENGTH = 20\n",
    "TAKES_PER = 3\n",
    "MOODS = ['EXCITED', 'RELAXED']\n",
    "HIDDEN_SIZE = 256"
   ]
  },
  {
   "cell_type": "code",
   "execution_count": 1,
   "metadata": {},
   "outputs": [
    {
     "name": "stdout",
     "output_type": "stream",
     "text": [
      "Get ready to act: EXCITED\n",
      "Countdown: 2\n",
      "Countdown: 1\n",
      "Countdown: GO!\n",
      "Recording started\n",
      "Recording stopped\n",
      "Get ready to act: RELAXED\n",
      "Countdown: 2\n",
      "Countdown: 1\n",
      "Countdown: GO!\n",
      "Recording started\n",
      "Recording stopped\n",
      "Get ready to act: EXCITED\n",
      "Countdown: 2\n",
      "Countdown: 1\n",
      "Countdown: GO!\n",
      "Recording started\n",
      "Recording stopped\n",
      "Get ready to act: RELAXED\n",
      "Countdown: 2\n",
      "Countdown: 1\n",
      "Countdown: GO!\n",
      "Recording started\n",
      "Recording stopped\n",
      "Get ready to act: EXCITED\n",
      "Countdown: 2\n",
      "Countdown: 1\n",
      "Countdown: GO!\n",
      "Recording started\n",
      "Recording stopped\n",
      "Get ready to act: RELAXED\n",
      "Countdown: 2\n",
      "Countdown: 1\n",
      "Countdown: GO!\n",
      "Recording started\n",
      "Recording stopped\n",
      "Get ready to act: EXCITED\n",
      "Countdown: 2\n",
      "Countdown: 1\n",
      "Countdown: GO!\n",
      "Recording started\n",
      "Recording stopped\n",
      "Get ready to act: RELAXED\n",
      "Countdown: 2\n",
      "Countdown: 1\n",
      "Countdown: GO!\n",
      "Recording started\n",
      "Recording stopped\n",
      "Get ready to act: EXCITED\n",
      "Countdown: 2\n",
      "Countdown: 1\n",
      "Countdown: GO!\n",
      "Recording started\n"
     ]
    },
    {
     "ename": "KeyboardInterrupt",
     "evalue": "",
     "output_type": "error",
     "traceback": [
      "\u001b[0;31m---------------------------------------------------------------------------\u001b[0m",
      "\u001b[0;31mKeyboardInterrupt\u001b[0m                         Traceback (most recent call last)",
      "\u001b[0;32m<ipython-input-1-85f50292fe40>\u001b[0m in \u001b[0;36m<module>\u001b[0;34m()\u001b[0m\n\u001b[1;32m     48\u001b[0m         \u001b[0mpath\u001b[0m \u001b[0;34m=\u001b[0m \u001b[0;34m'data/{}{}.avi'\u001b[0m\u001b[0;34m.\u001b[0m\u001b[0mformat\u001b[0m\u001b[0;34m(\u001b[0m\u001b[0mmood\u001b[0m\u001b[0;34m,\u001b[0m \u001b[0mtake\u001b[0m\u001b[0;34m)\u001b[0m\u001b[0;34m\u001b[0m\u001b[0m\n\u001b[1;32m     49\u001b[0m         \u001b[0mprint\u001b[0m\u001b[0;34m(\u001b[0m\u001b[0;34m'Get ready to act:'\u001b[0m\u001b[0;34m,\u001b[0m \u001b[0mmood\u001b[0m\u001b[0;34m)\u001b[0m\u001b[0;34m\u001b[0m\u001b[0m\n\u001b[0;32m---> 50\u001b[0;31m         \u001b[0mcapture\u001b[0m\u001b[0;34m(\u001b[0m\u001b[0mNUM_FRAMES\u001b[0m\u001b[0;34m,\u001b[0m \u001b[0mpath\u001b[0m\u001b[0;34m=\u001b[0m\u001b[0mpath\u001b[0m\u001b[0;34m,\u001b[0m \u001b[0mcountdown\u001b[0m\u001b[0;34m=\u001b[0m\u001b[0;36m3\u001b[0m\u001b[0;34m)\u001b[0m\u001b[0;34m\u001b[0m\u001b[0m\n\u001b[0m",
      "\u001b[0;32m<ipython-input-1-85f50292fe40>\u001b[0m in \u001b[0;36mcapture\u001b[0;34m(num_frames, path, countdown)\u001b[0m\n\u001b[1;32m     32\u001b[0m     \u001b[0;32mfor\u001b[0m \u001b[0mi\u001b[0m \u001b[0;32min\u001b[0m \u001b[0mrange\u001b[0m\u001b[0;34m(\u001b[0m\u001b[0mnum_frames\u001b[0m\u001b[0;34m)\u001b[0m\u001b[0;34m:\u001b[0m\u001b[0;34m\u001b[0m\u001b[0m\n\u001b[1;32m     33\u001b[0m \u001b[0;34m\u001b[0m\u001b[0m\n\u001b[0;32m---> 34\u001b[0;31m         \u001b[0mret\u001b[0m\u001b[0;34m,\u001b[0m \u001b[0mframe\u001b[0m \u001b[0;34m=\u001b[0m \u001b[0mcap\u001b[0m\u001b[0;34m.\u001b[0m\u001b[0mread\u001b[0m\u001b[0;34m(\u001b[0m\u001b[0;34m)\u001b[0m\u001b[0;34m\u001b[0m\u001b[0m\n\u001b[0m\u001b[1;32m     35\u001b[0m \u001b[0;34m\u001b[0m\u001b[0m\n\u001b[1;32m     36\u001b[0m         \u001b[0;32mif\u001b[0m \u001b[0mret\u001b[0m \u001b[0;34m==\u001b[0m \u001b[0;32mTrue\u001b[0m\u001b[0;34m:\u001b[0m\u001b[0;34m\u001b[0m\u001b[0m\n",
      "\u001b[0;31mKeyboardInterrupt\u001b[0m: "
     ]
    }
   ],
   "source": [
    "# Record movies, get ready to act either excited or relaxed!\n",
    "def capture(num_frames, path='out.avi', countdown=0):\n",
    "    for i in reversed(range(max(0, countdown))):\n",
    "        i = 'GO!' if i == 0 else '{}  '.format(i)\n",
    "        sys.stdout.write(\"Download progress: %d%%   \\r\" % (progress) )\n",
    "        sys.stdout.flush()\n",
    "        sleep(1)\n",
    "\n",
    "    # Create a VideoCapture object\n",
    "    cap = cv2.VideoCapture(0)\n",
    "\n",
    "    # Check if camera opened successfully\n",
    "    if (cap.isOpened() == False): \n",
    "        print(\"Unable to read camera feed\")\n",
    "\n",
    "    # Default resolutions of the frame are obtained.The default resolutions are system dependent.\n",
    "    # We convert the resolutions from float to integer.\n",
    "    frame_width = int(cap.get(3))\n",
    "    frame_height = int(cap.get(4))\n",
    "\n",
    "    # Define the codec and create VideoWriter object.The output is stored in 'outpy.avi' file.\n",
    "    out = cv2.VideoWriter(path, cv2.VideoWriter_fourcc('M','J','P','G'), 10, (frame_width,frame_height))\n",
    "\n",
    "    print('Recording started')\n",
    "    for i in range(num_frames):\n",
    "\n",
    "        ret, frame = cap.read()\n",
    "\n",
    "        if ret == True:     \n",
    "            # Write the frame into the file 'output.avi'\n",
    "            out.write(frame)\n",
    "\n",
    "\n",
    "    # When everything done, release the video capture and video write objects\n",
    "    cap.release()\n",
    "    out.release()\n",
    "    print('Recording stopped')\n",
    "    \n",
    "for take in range(TAKES_PER):\n",
    "    for mood in MOODS:\n",
    "        path = 'data/{}{}.avi'.format(mood, take)\n",
    "        print('Get ready to act:', mood)\n",
    "        capture(NUM_FRAMES, path=path, countdown=3)"
   ]
  },
  {
   "cell_type": "code",
   "execution_count": 15,
   "metadata": {},
   "outputs": [
    {
     "name": "stdout",
     "output_type": "stream",
     "text": [
      "preprocessing video/EXCITED1.avi\n",
      "preprocessing video/EXCITED0.avi\n",
      "preprocessing video/EXCITED2.avi\n",
      "preprocessing video/EXCITED3.avi\n",
      "preprocessing video/RELAXED2.avi\n",
      "preprocessing video/RELAXED3.avi\n",
      "preprocessing video/RELAXED1.avi\n",
      "preprocessing video/RELAXED0.avi\n"
     ]
    }
   ],
   "source": [
    "# Create training data\n",
    "from keras.preprocessing import image\n",
    "from keras.applications.vgg16 import VGG16\n",
    "from keras.applications.vgg16 import preprocess_input\n",
    "import numpy as np\n",
    "\n",
    "model = VGG16(weights='imagenet', include_top=False)\n",
    "#model.summary()\n",
    "\n",
    "def get_vectors(video_path):\n",
    "    vidcap = cv2.VideoCapture(video_path)\n",
    "    success, frame = vidcap.read()\n",
    "    while success:\n",
    "        #img = image.load_img(frame, target_size=(224, 224))\n",
    "        #img_data = image.img_to_array(img)\n",
    "        img_data = cv2.resize(frame,(224,224))\n",
    "        img_data = np.expand_dims(img_data, axis=0)\n",
    "        img_data = preprocess_input(img_data)\n",
    "        vgg16_feature = model.predict(img_data)\n",
    "        yield vgg16_feature\n",
    "        success,frame = vidcap.read()\n",
    "    vidcap.release()\n",
    "\n",
    "movies = []\n",
    "for mood in MOODS:\n",
    "    y = np.array([1,0]) if mood == 'EXCITED' else np.array([0,1])\n",
    "    for video_path in glob.glob('video/{}*.avi'.format(mood)):\n",
    "        print('preprocessing', video_path)\n",
    "        vectors = [np.expand_dims(vec.flatten(), axis=0) for vec in get_vectors(video_path)]\n",
    "        Xs = np.concatenate(vectors)\n",
    "        movies.append([\n",
    "            Xs,\n",
    "            y\n",
    "        ])"
   ]
  },
  {
   "cell_type": "code",
   "execution_count": 21,
   "metadata": {},
   "outputs": [
    {
     "name": "stdout",
     "output_type": "stream",
     "text": [
      "(20, 25088)\n",
      "640\n",
      "X/y dimensions: (640, 20, 25088) (640, 2)\n"
     ]
    }
   ],
   "source": [
    "# create seqs\n",
    "seq_Xs = []; seq_ys = []\n",
    "for Xs, y in movies:\n",
    "    for i in range(len(Xs) - SEQ_LENGTH):\n",
    "        seq_Xs.append(Xs[i:i+SEQ_LENGTH])\n",
    "        seq_ys.append(y)\n",
    "\n",
    "print(seq_Xs[0].shape)\n",
    "print(len(seq_Xs))\n",
    "seq_Xs = np.concatenate([np.expand_dims(a, axis=0) for a in seq_Xs])\n",
    "seq_ys = np.concatenate([np.expand_dims(a, axis=0) for a in seq_ys])\n",
    "\n",
    "print('X/y dimensions:', seq_Xs.shape, seq_ys.shape)"
   ]
  },
  {
   "cell_type": "code",
   "execution_count": 24,
   "metadata": {},
   "outputs": [
    {
     "name": "stdout",
     "output_type": "stream",
     "text": [
      "Train on 480 samples, validate on 160 samples\n",
      "Epoch 1/5\n",
      "480/480 [==============================] - 39s 80ms/step - loss: 0.3076 - acc: 0.8271 - val_loss: 0.0012 - val_acc: 1.0000\n",
      "Epoch 2/5\n",
      "480/480 [==============================] - 35s 73ms/step - loss: 5.4172e-04 - acc: 1.0000 - val_loss: 4.3486e-05 - val_acc: 1.0000\n",
      "Epoch 3/5\n",
      "480/480 [==============================] - 33s 69ms/step - loss: 3.9444e-05 - acc: 1.0000 - val_loss: 2.2087e-06 - val_acc: 1.0000\n",
      "Epoch 4/5\n",
      "480/480 [==============================] - 35s 72ms/step - loss: 9.8812e-06 - acc: 1.0000 - val_loss: 1.6838e-07 - val_acc: 1.0000\n",
      "Epoch 5/5\n",
      "480/480 [==============================] - 33s 70ms/step - loss: 4.7075e-07 - acc: 1.0000 - val_loss: 1.1921e-07 - val_acc: 1.0000\n"
     ]
    },
    {
     "data": {
      "text/plain": [
       "<keras.callbacks.History at 0xb25eca780>"
      ]
     },
     "execution_count": 24,
     "metadata": {},
     "output_type": "execute_result"
    }
   ],
   "source": [
    "from keras.models import Sequential\n",
    "from keras.layers import Dense, Activation, Dropout, LSTM\n",
    "from sklearn.model_selection import train_test_split\n",
    "\n",
    "HIDDEN_SIZE_LSTM = 128\n",
    "HIDDEN_SIZE_DENSE = 16\n",
    "\n",
    "model = Sequential()\n",
    "model.add(LSTM(HIDDEN_SIZE_LSTM, return_sequences=True, input_shape=(SEQ_LENGTH, seq_Xs.shape[2])))\n",
    "model.add(LSTM(HIDDEN_SIZE_LSTM, return_sequences=True))\n",
    "model.add(LSTM(HIDDEN_SIZE_LSTM))\n",
    "model.add(Dropout(0.5))\n",
    "model.add(Dense(2, activation='softmax'))\n",
    "\n",
    "model.compile(loss='categorical_crossentropy',\n",
    "              optimizer='rmsprop',\n",
    "              metrics=['accuracy'])\n",
    "\n",
    "x_train, x_val, y_train, y_val = train_test_split(seq_Xs, seq_ys, random_state=42)\n",
    "model.fit(x_train, y_train,\n",
    "          batch_size=10, epochs=5,\n",
    "          validation_data=(x_val, y_val))"
   ]
  },
  {
   "cell_type": "code",
   "execution_count": 35,
   "metadata": {},
   "outputs": [
    {
     "data": {
      "text/plain": [
       "1"
      ]
     },
     "execution_count": 35,
     "metadata": {},
     "output_type": "execute_result"
    }
   ],
   "source": [
    "seqi = 500\n",
    "np.argmax(model.predict(seq_Xs[seqi:seqi+1]))"
   ]
  },
  {
   "cell_type": "code",
   "execution_count": null,
   "metadata": {},
   "outputs": [],
   "source": []
  }
 ],
 "metadata": {
  "kernelspec": {
   "display_name": "Python (p3-ai)",
   "language": "python",
   "name": "p3-ai"
  },
  "language_info": {
   "codemirror_mode": {
    "name": "ipython",
    "version": 3
   },
   "file_extension": ".py",
   "mimetype": "text/x-python",
   "name": "python",
   "nbconvert_exporter": "python",
   "pygments_lexer": "ipython3",
   "version": "3.6.5"
  }
 },
 "nbformat": 4,
 "nbformat_minor": 2
}
